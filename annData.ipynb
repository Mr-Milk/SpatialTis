{
 "cells": [
  {
   "cell_type": "code",
   "execution_count": 1,
   "metadata": {
    "ExecuteTime": {
     "end_time": "2020-01-20T04:48:11.638342Z",
     "start_time": "2020-01-20T04:48:08.413481Z"
    }
   },
   "outputs": [],
   "source": [
    "import numpy as np\n",
    "import pandas as pd\n",
    "import anndata as ad\n",
    "import scanpy as sc"
   ]
  },
  {
   "cell_type": "code",
   "execution_count": 2,
   "metadata": {
    "ExecuteTime": {
     "end_time": "2020-01-20T04:48:12.962636Z",
     "start_time": "2020-01-20T04:48:11.642364Z"
    }
   },
   "outputs": [
    {
     "name": "stdout",
     "output_type": "stream",
     "text": [
      "scanpy==1.4.4.post1 anndata==0.6.22.post1 umap==0.3.10 numpy==1.17.4 scipy==1.3.1 pandas==0.25.3 scikit-learn==0.21.3 statsmodels==0.10.1 python-igraph==0.7.1\n"
     ]
    }
   ],
   "source": [
    "sc.settings.verbosity = 3             # verbosity: errors (0), warnings (1), info (2), hints (3)\n",
    "sc.logging.print_versions()\n",
    "sc.settings.set_figure_params(dpi=80)"
   ]
  },
  {
   "cell_type": "code",
   "execution_count": 3,
   "metadata": {
    "ExecuteTime": {
     "end_time": "2020-01-20T04:48:12.969919Z",
     "start_time": "2020-01-20T04:48:12.966130Z"
    }
   },
   "outputs": [],
   "source": [
    "results_file = './write/pbmc3k.h5ad'"
   ]
  },
  {
   "cell_type": "code",
   "execution_count": 4,
   "metadata": {
    "ExecuteTime": {
     "end_time": "2020-01-20T04:48:13.208230Z",
     "start_time": "2020-01-20T04:48:12.973454Z"
    }
   },
   "outputs": [
    {
     "name": "stdout",
     "output_type": "stream",
     "text": [
      "... reading from cache file cache/data-filtered_gene_bc_matrices-hg19-matrix.h5ad\n"
     ]
    }
   ],
   "source": [
    "\n",
    "adata = sc.read_10x_mtx(\n",
    "    './data/filtered_gene_bc_matrices/hg19/',  # the directory with the `.mtx` file\n",
    "    var_names='gene_symbols',                  # use gene symbols for the variable names (variables-axis index)\n",
    "    cache=True) "
   ]
  },
  {
   "cell_type": "code",
   "execution_count": 5,
   "metadata": {
    "ExecuteTime": {
     "end_time": "2020-01-20T04:48:13.214902Z",
     "start_time": "2020-01-20T04:48:13.210374Z"
    }
   },
   "outputs": [],
   "source": [
    "adata.var_names_make_unique()"
   ]
  },
  {
   "cell_type": "code",
   "execution_count": 6,
   "metadata": {
    "ExecuteTime": {
     "end_time": "2020-01-20T04:48:13.320352Z",
     "start_time": "2020-01-20T04:48:13.217867Z"
    }
   },
   "outputs": [
    {
     "name": "stdout",
     "output_type": "stream",
     "text": [
      "filtered out 19024 genes that are detectedin less than 3 cells\n"
     ]
    }
   ],
   "source": [
    "sc.pp.filter_cells(adata, min_genes=200)\n",
    "sc.pp.filter_genes(adata, min_cells=3)"
   ]
  },
  {
   "cell_type": "code",
   "execution_count": 7,
   "metadata": {
    "ExecuteTime": {
     "end_time": "2020-01-20T04:48:13.364979Z",
     "start_time": "2020-01-20T04:48:13.322873Z"
    }
   },
   "outputs": [],
   "source": [
    "mito_genes = adata.var_names.str.startswith('MT-')\n",
    "# for each cell compute fraction of counts in mito genes vs. all genes\n",
    "# the `.A1` is only necessary as X is sparse (to transform to a dense array after summing)\n",
    "adata.obs['percent_mito'] = np.sum(\n",
    "    adata[:, mito_genes].X, axis=1).A1 / np.sum(adata.X, axis=1).A1\n",
    "# add the total counts per cell as observations-annotation to adata\n",
    "adata.obs['n_counts'] = adata.X.sum(axis=1).A1"
   ]
  },
  {
   "cell_type": "code",
   "execution_count": 8,
   "metadata": {
    "ExecuteTime": {
     "end_time": "2020-01-20T04:48:13.375693Z",
     "start_time": "2020-01-20T04:48:13.370380Z"
    }
   },
   "outputs": [
    {
     "data": {
      "text/plain": [
       "AnnData object with n_obs × n_vars = 2700 × 13714 \n",
       "    obs: 'n_genes', 'percent_mito', 'n_counts'\n",
       "    var: 'gene_ids', 'n_cells'"
      ]
     },
     "execution_count": 8,
     "metadata": {},
     "output_type": "execute_result"
    }
   ],
   "source": [
    "adata"
   ]
  },
  {
   "cell_type": "code",
   "execution_count": 9,
   "metadata": {
    "ExecuteTime": {
     "end_time": "2020-01-20T04:48:13.405694Z",
     "start_time": "2020-01-20T04:48:13.378643Z"
    }
   },
   "outputs": [],
   "source": [
    "adata = adata[adata.obs.n_genes < 2500, :]\n",
    "adata = adata[adata.obs.percent_mito < 0.05, :]"
   ]
  },
  {
   "cell_type": "code",
   "execution_count": 10,
   "metadata": {
    "ExecuteTime": {
     "end_time": "2020-01-20T04:48:13.456129Z",
     "start_time": "2020-01-20T04:48:13.409280Z"
    }
   },
   "outputs": [
    {
     "name": "stdout",
     "output_type": "stream",
     "text": [
      "Normalizing counts per cell.\n",
      "    finished (0:00:00):normalized adata.X\n"
     ]
    }
   ],
   "source": [
    "sc.pp.normalize_total(adata, target_sum=1e4)"
   ]
  },
  {
   "cell_type": "code",
   "execution_count": 11,
   "metadata": {
    "ExecuteTime": {
     "end_time": "2020-01-20T04:48:13.473976Z",
     "start_time": "2020-01-20T04:48:13.458359Z"
    }
   },
   "outputs": [
    {
     "data": {
      "text/html": [
       "<div>\n",
       "<style scoped>\n",
       "    .dataframe tbody tr th:only-of-type {\n",
       "        vertical-align: middle;\n",
       "    }\n",
       "\n",
       "    .dataframe tbody tr th {\n",
       "        vertical-align: top;\n",
       "    }\n",
       "\n",
       "    .dataframe thead th {\n",
       "        text-align: right;\n",
       "    }\n",
       "</style>\n",
       "<table border=\"1\" class=\"dataframe\">\n",
       "  <thead>\n",
       "    <tr style=\"text-align: right;\">\n",
       "      <th></th>\n",
       "      <th>gene_ids</th>\n",
       "      <th>n_cells</th>\n",
       "    </tr>\n",
       "  </thead>\n",
       "  <tbody>\n",
       "    <tr>\n",
       "      <th>AL627309.1</th>\n",
       "      <td>ENSG00000237683</td>\n",
       "      <td>9</td>\n",
       "    </tr>\n",
       "    <tr>\n",
       "      <th>AP006222.2</th>\n",
       "      <td>ENSG00000228463</td>\n",
       "      <td>3</td>\n",
       "    </tr>\n",
       "    <tr>\n",
       "      <th>RP11-206L10.2</th>\n",
       "      <td>ENSG00000228327</td>\n",
       "      <td>5</td>\n",
       "    </tr>\n",
       "    <tr>\n",
       "      <th>RP11-206L10.9</th>\n",
       "      <td>ENSG00000237491</td>\n",
       "      <td>3</td>\n",
       "    </tr>\n",
       "    <tr>\n",
       "      <th>LINC00115</th>\n",
       "      <td>ENSG00000225880</td>\n",
       "      <td>18</td>\n",
       "    </tr>\n",
       "    <tr>\n",
       "      <th>...</th>\n",
       "      <td>...</td>\n",
       "      <td>...</td>\n",
       "    </tr>\n",
       "    <tr>\n",
       "      <th>AC145212.1</th>\n",
       "      <td>ENSG00000215750</td>\n",
       "      <td>16</td>\n",
       "    </tr>\n",
       "    <tr>\n",
       "      <th>AL592183.1</th>\n",
       "      <td>ENSG00000220023</td>\n",
       "      <td>323</td>\n",
       "    </tr>\n",
       "    <tr>\n",
       "      <th>AL354822.1</th>\n",
       "      <td>ENSG00000215615</td>\n",
       "      <td>8</td>\n",
       "    </tr>\n",
       "    <tr>\n",
       "      <th>PNRC2-1</th>\n",
       "      <td>ENSG00000215700</td>\n",
       "      <td>110</td>\n",
       "    </tr>\n",
       "    <tr>\n",
       "      <th>SRSF10-1</th>\n",
       "      <td>ENSG00000215699</td>\n",
       "      <td>69</td>\n",
       "    </tr>\n",
       "  </tbody>\n",
       "</table>\n",
       "<p>13714 rows × 2 columns</p>\n",
       "</div>"
      ],
      "text/plain": [
       "                      gene_ids  n_cells\n",
       "AL627309.1     ENSG00000237683        9\n",
       "AP006222.2     ENSG00000228463        3\n",
       "RP11-206L10.2  ENSG00000228327        5\n",
       "RP11-206L10.9  ENSG00000237491        3\n",
       "LINC00115      ENSG00000225880       18\n",
       "...                        ...      ...\n",
       "AC145212.1     ENSG00000215750       16\n",
       "AL592183.1     ENSG00000220023      323\n",
       "AL354822.1     ENSG00000215615        8\n",
       "PNRC2-1        ENSG00000215700      110\n",
       "SRSF10-1       ENSG00000215699       69\n",
       "\n",
       "[13714 rows x 2 columns]"
      ]
     },
     "execution_count": 11,
     "metadata": {},
     "output_type": "execute_result"
    }
   ],
   "source": [
    "adata.var"
   ]
  },
  {
   "cell_type": "code",
   "execution_count": 12,
   "metadata": {
    "ExecuteTime": {
     "end_time": "2020-01-20T04:48:14.432672Z",
     "start_time": "2020-01-20T04:48:14.410944Z"
    }
   },
   "outputs": [
    {
     "data": {
      "text/html": [
       "<div>\n",
       "<style scoped>\n",
       "    .dataframe tbody tr th:only-of-type {\n",
       "        vertical-align: middle;\n",
       "    }\n",
       "\n",
       "    .dataframe tbody tr th {\n",
       "        vertical-align: top;\n",
       "    }\n",
       "\n",
       "    .dataframe thead th {\n",
       "        text-align: right;\n",
       "    }\n",
       "</style>\n",
       "<table border=\"1\" class=\"dataframe\">\n",
       "  <thead>\n",
       "    <tr style=\"text-align: right;\">\n",
       "      <th></th>\n",
       "      <th>n_genes</th>\n",
       "      <th>percent_mito</th>\n",
       "      <th>n_counts</th>\n",
       "    </tr>\n",
       "    <tr>\n",
       "      <th>0</th>\n",
       "      <th></th>\n",
       "      <th></th>\n",
       "      <th></th>\n",
       "    </tr>\n",
       "  </thead>\n",
       "  <tbody>\n",
       "    <tr>\n",
       "      <th>AAACATACAACCAC-1</th>\n",
       "      <td>781</td>\n",
       "      <td>0.030178</td>\n",
       "      <td>2419.0</td>\n",
       "    </tr>\n",
       "    <tr>\n",
       "      <th>AAACATTGAGCTAC-1</th>\n",
       "      <td>1352</td>\n",
       "      <td>0.037936</td>\n",
       "      <td>4903.0</td>\n",
       "    </tr>\n",
       "    <tr>\n",
       "      <th>AAACATTGATCAGC-1</th>\n",
       "      <td>1131</td>\n",
       "      <td>0.008897</td>\n",
       "      <td>3147.0</td>\n",
       "    </tr>\n",
       "    <tr>\n",
       "      <th>AAACCGTGCTTCCG-1</th>\n",
       "      <td>960</td>\n",
       "      <td>0.017431</td>\n",
       "      <td>2639.0</td>\n",
       "    </tr>\n",
       "    <tr>\n",
       "      <th>AAACCGTGTATGCG-1</th>\n",
       "      <td>522</td>\n",
       "      <td>0.012245</td>\n",
       "      <td>980.0</td>\n",
       "    </tr>\n",
       "    <tr>\n",
       "      <th>...</th>\n",
       "      <td>...</td>\n",
       "      <td>...</td>\n",
       "      <td>...</td>\n",
       "    </tr>\n",
       "    <tr>\n",
       "      <th>TTTCGAACTCTCAT-1</th>\n",
       "      <td>1155</td>\n",
       "      <td>0.021104</td>\n",
       "      <td>3459.0</td>\n",
       "    </tr>\n",
       "    <tr>\n",
       "      <th>TTTCTACTGAGGCA-1</th>\n",
       "      <td>1227</td>\n",
       "      <td>0.009294</td>\n",
       "      <td>3443.0</td>\n",
       "    </tr>\n",
       "    <tr>\n",
       "      <th>TTTCTACTTCCTCG-1</th>\n",
       "      <td>622</td>\n",
       "      <td>0.021971</td>\n",
       "      <td>1684.0</td>\n",
       "    </tr>\n",
       "    <tr>\n",
       "      <th>TTTGCATGAGAGGC-1</th>\n",
       "      <td>454</td>\n",
       "      <td>0.020548</td>\n",
       "      <td>1022.0</td>\n",
       "    </tr>\n",
       "    <tr>\n",
       "      <th>TTTGCATGCCTCAC-1</th>\n",
       "      <td>724</td>\n",
       "      <td>0.008065</td>\n",
       "      <td>1984.0</td>\n",
       "    </tr>\n",
       "  </tbody>\n",
       "</table>\n",
       "<p>2638 rows × 3 columns</p>\n",
       "</div>"
      ],
      "text/plain": [
       "                  n_genes  percent_mito  n_counts\n",
       "0                                                \n",
       "AAACATACAACCAC-1      781      0.030178    2419.0\n",
       "AAACATTGAGCTAC-1     1352      0.037936    4903.0\n",
       "AAACATTGATCAGC-1     1131      0.008897    3147.0\n",
       "AAACCGTGCTTCCG-1      960      0.017431    2639.0\n",
       "AAACCGTGTATGCG-1      522      0.012245     980.0\n",
       "...                   ...           ...       ...\n",
       "TTTCGAACTCTCAT-1     1155      0.021104    3459.0\n",
       "TTTCTACTGAGGCA-1     1227      0.009294    3443.0\n",
       "TTTCTACTTCCTCG-1      622      0.021971    1684.0\n",
       "TTTGCATGAGAGGC-1      454      0.020548    1022.0\n",
       "TTTGCATGCCTCAC-1      724      0.008065    1984.0\n",
       "\n",
       "[2638 rows x 3 columns]"
      ]
     },
     "execution_count": 12,
     "metadata": {},
     "output_type": "execute_result"
    }
   ],
   "source": [
    "adata.obs"
   ]
  },
  {
   "cell_type": "code",
   "execution_count": 13,
   "metadata": {
    "ExecuteTime": {
     "end_time": "2020-01-20T04:48:15.114959Z",
     "start_time": "2020-01-20T04:48:15.084563Z"
    }
   },
   "outputs": [
    {
     "name": "stderr",
     "output_type": "stream",
     "text": [
      "/Users/milk/anaconda3/envs/tissue/lib/python3.7/site-packages/scanpy/preprocessing/_simple.py:285: UserWarning: Revieved a view of an AnnData. Making a copy.\n",
      "  view_to_actual(data)\n"
     ]
    }
   ],
   "source": [
    "sc.pp.log1p(adata)"
   ]
  },
  {
   "cell_type": "code",
   "execution_count": 14,
   "metadata": {
    "ExecuteTime": {
     "end_time": "2020-01-20T04:48:18.694004Z",
     "start_time": "2020-01-20T04:48:18.683867Z"
    }
   },
   "outputs": [],
   "source": [
    "adata.raw = adata"
   ]
  },
  {
   "cell_type": "code",
   "execution_count": 15,
   "metadata": {
    "ExecuteTime": {
     "end_time": "2020-01-20T04:48:18.950972Z",
     "start_time": "2020-01-20T04:48:18.945862Z"
    }
   },
   "outputs": [
    {
     "data": {
      "text/plain": [
       "AnnData object with n_obs × n_vars = 2638 × 13714 \n",
       "    obs: 'n_genes', 'percent_mito', 'n_counts'\n",
       "    var: 'gene_ids', 'n_cells'"
      ]
     },
     "execution_count": 15,
     "metadata": {},
     "output_type": "execute_result"
    }
   ],
   "source": [
    "adata"
   ]
  },
  {
   "cell_type": "code",
   "execution_count": 16,
   "metadata": {
    "ExecuteTime": {
     "end_time": "2020-01-20T04:48:20.129451Z",
     "start_time": "2020-01-20T04:48:19.435229Z"
    }
   },
   "outputs": [
    {
     "name": "stdout",
     "output_type": "stream",
     "text": [
      "extracting highly variable genes\n",
      "    finished (0:00:00)\n",
      "--> added\n",
      "    'highly_variable', boolean vector (adata.var)\n",
      "    'means', float vector (adata.var)\n",
      "    'dispersions', float vector (adata.var)\n",
      "    'dispersions_norm', float vector (adata.var)\n"
     ]
    }
   ],
   "source": [
    "sc.pp.highly_variable_genes(adata, min_mean=0.0125, max_mean=3, min_disp=0.5)"
   ]
  },
  {
   "cell_type": "code",
   "execution_count": 17,
   "metadata": {
    "ExecuteTime": {
     "end_time": "2020-01-20T04:48:20.266493Z",
     "start_time": "2020-01-20T04:48:20.237220Z"
    }
   },
   "outputs": [],
   "source": [
    "adata = adata[:, adata.var.highly_variable]"
   ]
  },
  {
   "cell_type": "code",
   "execution_count": 18,
   "metadata": {
    "ExecuteTime": {
     "end_time": "2020-01-20T04:48:21.110890Z",
     "start_time": "2020-01-20T04:48:21.036106Z"
    }
   },
   "outputs": [
    {
     "name": "stderr",
     "output_type": "stream",
     "text": [
      "/Users/milk/anaconda3/envs/tissue/lib/python3.7/site-packages/scanpy/preprocessing/_simple.py:869: UserWarning: Revieved a view of an AnnData. Making a copy.\n",
      "  view_to_actual(adata)\n"
     ]
    }
   ],
   "source": [
    "sc.pp.scale(adata, max_value=10)"
   ]
  },
  {
   "cell_type": "code",
   "execution_count": 19,
   "metadata": {
    "ExecuteTime": {
     "end_time": "2020-01-20T04:48:22.550749Z",
     "start_time": "2020-01-20T04:48:22.045522Z"
    }
   },
   "outputs": [
    {
     "name": "stdout",
     "output_type": "stream",
     "text": [
      "computing PCA with n_comps = 50\n",
      "computing PCA on highly variable genes\n",
      "    finished (0:00:00)\n"
     ]
    }
   ],
   "source": [
    "sc.tl.pca(adata, svd_solver='arpack')"
   ]
  },
  {
   "cell_type": "code",
   "execution_count": 20,
   "metadata": {
    "ExecuteTime": {
     "end_time": "2020-01-20T04:48:23.973122Z",
     "start_time": "2020-01-20T04:48:23.660862Z"
    }
   },
   "outputs": [
    {
     "data": {
      "image/png": "[encoded data removed]",
      "text/plain": [
       "<Figure size 320x320 with 2 Axes>"
      ]
     },
     "metadata": {
      "image/png": {
       "height": 296,
       "width": 289
      },
      "needs_background": "light"
     },
     "output_type": "display_data"
    }
   ],
   "source": [
    "sc.pl.pca(adata, color='CST3')"
   ]
  },
  {
   "cell_type": "code",
   "execution_count": 23,
   "metadata": {
    "ExecuteTime": {
     "end_time": "2020-01-20T05:44:43.922359Z",
     "start_time": "2020-01-20T05:44:43.914357Z"
    }
   },
   "outputs": [
    {
     "data": {
      "text/plain": [
       "AnnData object with n_obs × n_vars = 2638 × 1838 \n",
       "    obs: 'n_genes', 'percent_mito', 'n_counts'\n",
       "    var: 'gene_ids', 'n_cells', 'highly_variable', 'means', 'dispersions', 'dispersions_norm'\n",
       "    uns: 'pca'\n",
       "    obsm: 'X_pca'\n",
       "    varm: 'PCs'"
      ]
     },
     "execution_count": 23,
     "metadata": {},
     "output_type": "execute_result"
    }
   ],
   "source": [
    "adata"
   ]
  },
  {
   "cell_type": "code",
   "execution_count": 25,
   "metadata": {
    "ExecuteTime": {
     "end_time": "2020-01-20T05:45:00.234981Z",
     "start_time": "2020-01-20T05:45:00.228271Z"
    }
   },
   "outputs": [
    {
     "data": {
      "text/plain": [
       "array([[-2.17317082e-02,  8.46073776e-03,  2.66873016e-04, ...,\n",
       "        -2.51247883e-02,  9.63948574e-03,  9.48109478e-03],\n",
       "       [-4.68928600e-03,  1.14918193e-02, -1.55156117e-03, ...,\n",
       "         2.65515037e-02,  1.43990172e-02, -1.74628217e-02],\n",
       "       [-2.71422300e-03,  3.77035164e-03,  2.95865349e-04, ...,\n",
       "         1.17979543e-02,  5.91270812e-03, -5.36955427e-03],\n",
       "       ...,\n",
       "       [ 1.13091338e-02,  3.43348511e-05, -4.91521368e-03, ...,\n",
       "         9.61822830e-03, -5.96431922e-03,  2.64653042e-02],\n",
       "       [-1.07287457e-02,  4.63993289e-02,  1.27270492e-03, ...,\n",
       "         3.12778763e-02, -3.00858170e-04, -1.64713468e-02],\n",
       "       [-1.05221588e-02,  4.17870954e-02,  6.75286260e-03, ...,\n",
       "         4.98031359e-03,  5.49898669e-03,  4.55225706e-02]])"
      ]
     },
     "execution_count": 25,
     "metadata": {},
     "output_type": "execute_result"
    }
   ],
   "source": [
    "adata.varm['PCs']"
   ]
  },
  {
   "cell_type": "code",
   "execution_count": 20,
   "metadata": {
    "ExecuteTime": {
     "end_time": "2020-01-18T14:50:46.661910Z",
     "start_time": "2020-01-18T14:50:44.202815Z"
    }
   },
   "outputs": [
    {
     "name": "stdout",
     "output_type": "stream",
     "text": [
      "computing neighbors\n",
      "    using 'X_pca' with n_pcs = 40\n",
      "    finished: added to `.uns['neighbors']`\n",
      "    'distances', distances for each pair of neighbors\n",
      "    'connectivities', weighted adjacency matrix (0:00:02)\n"
     ]
    }
   ],
   "source": [
    "sc.pp.neighbors(adata, n_neighbors=10, n_pcs=40)"
   ]
  },
  {
   "cell_type": "code",
   "execution_count": 21,
   "metadata": {
    "ExecuteTime": {
     "end_time": "2020-01-18T14:50:51.348256Z",
     "start_time": "2020-01-18T14:50:46.666449Z"
    }
   },
   "outputs": [
    {
     "name": "stdout",
     "output_type": "stream",
     "text": [
      "computing UMAP\n",
      "    finished: added\n",
      "    'X_umap', UMAP coordinates (adata.obsm) (0:00:04)\n"
     ]
    }
   ],
   "source": [
    "sc.tl.umap(adata)"
   ]
  },
  {
   "cell_type": "code",
   "execution_count": 22,
   "metadata": {
    "ExecuteTime": {
     "end_time": "2020-01-18T14:50:51.357293Z",
     "start_time": "2020-01-18T14:50:51.350791Z"
    }
   },
   "outputs": [
    {
     "data": {
      "text/plain": [
       "AnnData object with n_obs × n_vars = 2638 × 1838 \n",
       "    obs: 'n_genes', 'percent_mito', 'n_counts'\n",
       "    var: 'gene_ids', 'n_cells', 'highly_variable', 'means', 'dispersions', 'dispersions_norm'\n",
       "    uns: 'pca', 'neighbors'\n",
       "    obsm: 'X_pca', 'X_umap'\n",
       "    varm: 'PCs'"
      ]
     },
     "execution_count": 22,
     "metadata": {},
     "output_type": "execute_result"
    }
   ],
   "source": [
    "adata"
   ]
  },
  {
   "cell_type": "code",
   "execution_count": 23,
   "metadata": {
    "ExecuteTime": {
     "end_time": "2020-01-18T14:50:51.384086Z",
     "start_time": "2020-01-18T14:50:51.377544Z"
    }
   },
   "outputs": [
    {
     "data": {
      "text/plain": [
       "{'params': {'n_neighbors': 10,\n",
       "  'method': 'umap',\n",
       "  'metric': 'euclidean',\n",
       "  'n_pcs': 40},\n",
       " 'distances': <2638x2638 sparse matrix of type '<class 'numpy.float64'>'\n",
       " \twith 23742 stored elements in Compressed Sparse Row format>,\n",
       " 'connectivities': <2638x2638 sparse matrix of type '<class 'numpy.float64'>'\n",
       " \twith 41518 stored elements in Compressed Sparse Row format>}"
      ]
     },
     "execution_count": 23,
     "metadata": {},
     "output_type": "execute_result"
    }
   ],
   "source": [
    "adata.uns['neighbors']"
   ]
  },
  {
   "cell_type": "code",
   "execution_count": 26,
   "metadata": {
    "ExecuteTime": {
     "end_time": "2020-01-18T14:52:13.726641Z",
     "start_time": "2020-01-18T14:52:10.297164Z"
    }
   },
   "outputs": [
    {
     "name": "stdout",
     "output_type": "stream",
     "text": [
      "running Leiden clustering\n",
      "    finished: found 9 clusters and added\n",
      "    'leiden', the cluster labels (adata.obs, categorical) (0:00:00)\n"
     ]
    }
   ],
   "source": [
    "sc.tl.leiden(adata)"
   ]
  },
  {
   "cell_type": "code",
   "execution_count": 27,
   "metadata": {
    "ExecuteTime": {
     "end_time": "2020-01-18T14:52:17.409188Z",
     "start_time": "2020-01-18T14:52:17.402786Z"
    }
   },
   "outputs": [
    {
     "data": {
      "text/plain": [
       "AnnData object with n_obs × n_vars = 2638 × 1838 \n",
       "    obs: 'n_genes', 'percent_mito', 'n_counts', 'leiden'\n",
       "    var: 'gene_ids', 'n_cells', 'highly_variable', 'means', 'dispersions', 'dispersions_norm'\n",
       "    uns: 'pca', 'neighbors', 'leiden'\n",
       "    obsm: 'X_pca', 'X_umap'\n",
       "    varm: 'PCs'"
      ]
     },
     "execution_count": 27,
     "metadata": {},
     "output_type": "execute_result"
    }
   ],
   "source": [
    "adata"
   ]
  },
  {
   "cell_type": "code",
   "execution_count": 29,
   "metadata": {
    "ExecuteTime": {
     "end_time": "2020-01-18T14:52:40.348666Z",
     "start_time": "2020-01-18T14:52:40.337073Z"
    }
   },
   "outputs": [
    {
     "data": {
      "text/plain": [
       "0\n",
       "AAACATACAACCAC-1    0\n",
       "AAACATTGAGCTAC-1    3\n",
       "AAACATTGATCAGC-1    1\n",
       "AAACCGTGCTTCCG-1    5\n",
       "AAACCGTGTATGCG-1    6\n",
       "                   ..\n",
       "TTTCGAACTCTCAT-1    2\n",
       "TTTCTACTGAGGCA-1    3\n",
       "TTTCTACTTCCTCG-1    3\n",
       "TTTGCATGAGAGGC-1    3\n",
       "TTTGCATGCCTCAC-1    0\n",
       "Name: leiden, Length: 2638, dtype: category\n",
       "Categories (9, object): [0, 1, 2, 3, ..., 5, 6, 7, 8]"
      ]
     },
     "execution_count": 29,
     "metadata": {},
     "output_type": "execute_result"
    }
   ],
   "source": [
    "adata.obs['leiden']"
   ]
  },
  {
   "cell_type": "code",
   "execution_count": null,
   "metadata": {},
   "outputs": [],
   "source": []
  }
 ],
 "metadata": {
  "kernelspec": {
   "display_name": "Python [conda env:tissue] *",
   "language": "python",
   "name": "conda-env-tissue-py"
  },
  "language_info": {
   "codemirror_mode": {
    "name": "ipython",
    "version": 3
   },
   "file_extension": ".py",
   "mimetype": "text/x-python",
   "name": "python",
   "nbconvert_exporter": "python",
   "pygments_lexer": "ipython3",
   "version": "3.7.5"
  }
 },
 "nbformat": 4,
 "nbformat_minor": 2
}
