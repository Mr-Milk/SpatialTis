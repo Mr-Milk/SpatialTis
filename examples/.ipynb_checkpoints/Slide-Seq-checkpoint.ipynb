{
 "cells": [
  {
   "cell_type": "code",
   "execution_count": 1,
   "id": "06fe6639-5533-42af-9003-f55284580e4e",
   "metadata": {},
   "outputs": [],
   "source": [
    "import anndata as ad\n",
    "import spatialtis as st\n",
    "import spatialtis.plotting as sp"
   ]
  },
  {
   "cell_type": "code",
   "execution_count": 8,
   "id": "4a22d252-141d-4450-a451-ddd5fb7f7c3f",
   "metadata": {},
   "outputs": [
    {
     "data": {
      "text/plain": [
       "AnnData object with n_obs × n_vars = 23006 × 4650\n",
       "    obs: 'cellid', 'x', 'y', 'centroid', 'roi'"
      ]
     },
     "execution_count": 8,
     "metadata": {},
     "output_type": "execute_result"
    }
   ],
   "source": [
    "data = ad.read_h5ad('../data/slide-seq.h5ad')\n",
    "data"
   ]
  },
  {
   "cell_type": "code",
   "execution_count": 10,
   "id": "bbc7c358-161c-473d-88fb-8e9ad6fd6c7d",
   "metadata": {},
   "outputs": [
    {
     "data": {
      "text/html": [
       "<pre style=\"white-space:pre;overflow-x:auto;line-height:normal;font-family:Menlo,'DejaVu Sans Mono',consolas,'Courier New',monospace\"><span style=\"font-style: italic\">         Current configurations of SpatialTis         </span>\n",
       "┏━━━━━━━━━━━━━━━━━━━━━━━━━┳━━━━━━━━━━━━━━━┳━━━━━━━━━━┓\n",
       "┃<span style=\"font-weight: bold\"> Options                 </span>┃<span style=\"font-weight: bold\"> Attributes    </span>┃<span style=\"font-weight: bold\"> Value    </span>┃\n",
       "┡━━━━━━━━━━━━━━━━━━━━━━━━━╇━━━━━━━━━━━━━━━╇━━━━━━━━━━┩\n",
       "│<span style=\"color: #808080; text-decoration-color: #808080\"> Multiprocessing         </span>│<span style=\"color: #008080; text-decoration-color: #008080\"> mp            </span>│<span style=\"color: #800080; text-decoration-color: #800080\"> True     </span>│\n",
       "│<span style=\"color: #808080; text-decoration-color: #808080\"> Verbose                 </span>│<span style=\"color: #008080; text-decoration-color: #008080\"> verbose       </span>│<span style=\"color: #800080; text-decoration-color: #800080\"> True     </span>│\n",
       "│<span style=\"color: #808080; text-decoration-color: #808080\"> Progress bar            </span>│<span style=\"color: #008080; text-decoration-color: #008080\"> progress_bar  </span>│<span style=\"color: #800080; text-decoration-color: #800080\"> False    </span>│\n",
       "│<span style=\"color: #808080; text-decoration-color: #808080\"> Auto save               </span>│<span style=\"color: #008080; text-decoration-color: #008080\"> auto_save     </span>│<span style=\"color: #800080; text-decoration-color: #800080\"> False    </span>│\n",
       "│<span style=\"color: #808080; text-decoration-color: #808080\"> Experiment observations </span>│<span style=\"color: #008080; text-decoration-color: #008080\"> exp_obs       </span>│<span style=\"color: #800080; text-decoration-color: #800080\"> ['roi']  </span>│\n",
       "│<span style=\"color: #808080; text-decoration-color: #808080\"> ROI key                 </span>│<span style=\"color: #008080; text-decoration-color: #008080\"> roi_key       </span>│<span style=\"color: #800080; text-decoration-color: #800080\"> roi      </span>│\n",
       "│<span style=\"color: #808080; text-decoration-color: #808080\"> Cell type key           </span>│<span style=\"color: #008080; text-decoration-color: #008080\"> cell_type_key </span>│<span style=\"color: #800080; text-decoration-color: #800080\">          </span>│\n",
       "│<span style=\"color: #808080; text-decoration-color: #808080\"> Marker key              </span>│<span style=\"color: #008080; text-decoration-color: #008080\"> marker_key    </span>│<span style=\"color: #800080; text-decoration-color: #800080\">          </span>│\n",
       "│<span style=\"color: #808080; text-decoration-color: #808080\"> Centroid key            </span>│<span style=\"color: #008080; text-decoration-color: #008080\"> centroid_key  </span>│<span style=\"color: #800080; text-decoration-color: #800080\"> centroid </span>│\n",
       "│<span style=\"color: #808080; text-decoration-color: #808080\"> Shape key               </span>│<span style=\"color: #008080; text-decoration-color: #008080\"> shape_key     </span>│<span style=\"color: #800080; text-decoration-color: #800080\">          </span>│\n",
       "└─────────────────────────┴───────────────┴──────────┘\n",
       "</pre>\n"
      ],
      "text/plain": [
       "\u001b[3m         Current configurations of SpatialTis         \u001b[0m\n",
       "┏━━━━━━━━━━━━━━━━━━━━━━━━━┳━━━━━━━━━━━━━━━┳━━━━━━━━━━┓\n",
       "┃\u001b[1m \u001b[0m\u001b[1mOptions                \u001b[0m\u001b[1m \u001b[0m┃\u001b[1m \u001b[0m\u001b[1mAttributes   \u001b[0m\u001b[1m \u001b[0m┃\u001b[1m \u001b[0m\u001b[1mValue   \u001b[0m\u001b[1m \u001b[0m┃\n",
       "┡━━━━━━━━━━━━━━━━━━━━━━━━━╇━━━━━━━━━━━━━━━╇━━━━━━━━━━┩\n",
       "│\u001b[90m \u001b[0m\u001b[90mMultiprocessing        \u001b[0m\u001b[90m \u001b[0m│\u001b[36m \u001b[0m\u001b[36mmp           \u001b[0m\u001b[36m \u001b[0m│\u001b[35m \u001b[0m\u001b[35mTrue    \u001b[0m\u001b[35m \u001b[0m│\n",
       "│\u001b[90m \u001b[0m\u001b[90mVerbose                \u001b[0m\u001b[90m \u001b[0m│\u001b[36m \u001b[0m\u001b[36mverbose      \u001b[0m\u001b[36m \u001b[0m│\u001b[35m \u001b[0m\u001b[35mTrue    \u001b[0m\u001b[35m \u001b[0m│\n",
       "│\u001b[90m \u001b[0m\u001b[90mProgress bar           \u001b[0m\u001b[90m \u001b[0m│\u001b[36m \u001b[0m\u001b[36mprogress_bar \u001b[0m\u001b[36m \u001b[0m│\u001b[35m \u001b[0m\u001b[35mFalse   \u001b[0m\u001b[35m \u001b[0m│\n",
       "│\u001b[90m \u001b[0m\u001b[90mAuto save              \u001b[0m\u001b[90m \u001b[0m│\u001b[36m \u001b[0m\u001b[36mauto_save    \u001b[0m\u001b[36m \u001b[0m│\u001b[35m \u001b[0m\u001b[35mFalse   \u001b[0m\u001b[35m \u001b[0m│\n",
       "│\u001b[90m \u001b[0m\u001b[90mExperiment observations\u001b[0m\u001b[90m \u001b[0m│\u001b[36m \u001b[0m\u001b[36mexp_obs      \u001b[0m\u001b[36m \u001b[0m│\u001b[35m \u001b[0m\u001b[35m['roi'] \u001b[0m\u001b[35m \u001b[0m│\n",
       "│\u001b[90m \u001b[0m\u001b[90mROI key                \u001b[0m\u001b[90m \u001b[0m│\u001b[36m \u001b[0m\u001b[36mroi_key      \u001b[0m\u001b[36m \u001b[0m│\u001b[35m \u001b[0m\u001b[35mroi     \u001b[0m\u001b[35m \u001b[0m│\n",
       "│\u001b[90m \u001b[0m\u001b[90mCell type key          \u001b[0m\u001b[90m \u001b[0m│\u001b[36m \u001b[0m\u001b[36mcell_type_key\u001b[0m\u001b[36m \u001b[0m│\u001b[35m \u001b[0m\u001b[35m        \u001b[0m\u001b[35m \u001b[0m│\n",
       "│\u001b[90m \u001b[0m\u001b[90mMarker key             \u001b[0m\u001b[90m \u001b[0m│\u001b[36m \u001b[0m\u001b[36mmarker_key   \u001b[0m\u001b[36m \u001b[0m│\u001b[35m \u001b[0m\u001b[35m        \u001b[0m\u001b[35m \u001b[0m│\n",
       "│\u001b[90m \u001b[0m\u001b[90mCentroid key           \u001b[0m\u001b[90m \u001b[0m│\u001b[36m \u001b[0m\u001b[36mcentroid_key \u001b[0m\u001b[36m \u001b[0m│\u001b[35m \u001b[0m\u001b[35mcentroid\u001b[0m\u001b[35m \u001b[0m│\n",
       "│\u001b[90m \u001b[0m\u001b[90mShape key              \u001b[0m\u001b[90m \u001b[0m│\u001b[36m \u001b[0m\u001b[36mshape_key    \u001b[0m\u001b[36m \u001b[0m│\u001b[35m \u001b[0m\u001b[35m        \u001b[0m\u001b[35m \u001b[0m│\n",
       "└─────────────────────────┴───────────────┴──────────┘\n"
      ]
     },
     "metadata": {},
     "output_type": "display_data"
    }
   ],
   "source": [
    "st.Config.view()"
   ]
  },
  {
   "cell_type": "code",
   "execution_count": 9,
   "id": "b857679f-40db-496f-b527-0b02c68910d0",
   "metadata": {},
   "outputs": [],
   "source": [
    "st.Config.centroid_key = 'centroid'\n",
    "st.Config.roi_key = 'roi'"
   ]
  },
  {
   "cell_type": "code",
   "execution_count": 12,
   "id": "258836c4-e16a-4837-bc82-8f8926b2f15a",
   "metadata": {},
   "outputs": [
    {
     "data": {
      "text/html": [
       "<pre style=\"white-space:pre;overflow-x:auto;line-height:normal;font-family:Menlo,'DejaVu Sans Mono',consolas,'Courier New',monospace\">⏳ <span style=\"color: #008000; text-decoration-color: #008000\">Spatial autocorr</span>\n",
       "</pre>\n"
      ],
      "text/plain": [
       "⏳ \u001b[32mSpatial autocorr\u001b[0m\n"
      ]
     },
     "metadata": {},
     "output_type": "display_data"
    },
    {
     "ename": "NeighborsNotFoundError",
     "evalue": "Please run spatialtis.find_neighbors before proceed",
     "output_type": "error",
     "traceback": [
      "\u001b[1;31m---------------------------------------------------------------------------\u001b[0m",
      "\u001b[1;31mNeighborsNotFoundError\u001b[0m                    Traceback (most recent call last)",
      "\u001b[1;32m~\\AppData\\Local\\Temp/ipykernel_24856/4266623484.py\u001b[0m in \u001b[0;36m<module>\u001b[1;34m\u001b[0m\n\u001b[1;32m----> 1\u001b[1;33m \u001b[0mst\u001b[0m\u001b[1;33m.\u001b[0m\u001b[0mspatial_autocorr\u001b[0m\u001b[1;33m(\u001b[0m\u001b[0mdata\u001b[0m\u001b[1;33m)\u001b[0m\u001b[1;33m\u001b[0m\u001b[1;33m\u001b[0m\u001b[0m\n\u001b[0m",
      "\u001b[1;32mc:\\users\\milk\\projects\\spatialtis\\spatialtis\\spatial\\autocorr.py\u001b[0m in \u001b[0;36m__init__\u001b[1;34m(self, data, marker_key, layer_key, two_tailed, method)\u001b[0m\n\u001b[0;32m     35\u001b[0m             \u001b[0mlayer_key\u001b[0m\u001b[1;33m=\u001b[0m\u001b[0mlayer_key\u001b[0m\u001b[1;33m,\u001b[0m \u001b[0mdesc\u001b[0m\u001b[1;33m=\u001b[0m\u001b[1;34m\"Spatial autocorrelation\"\u001b[0m\u001b[1;33m\u001b[0m\u001b[1;33m\u001b[0m\u001b[0m\n\u001b[0;32m     36\u001b[0m         ):\n\u001b[1;32m---> 37\u001b[1;33m             \u001b[0mneighbors\u001b[0m \u001b[1;33m=\u001b[0m \u001b[0mread_neighbors\u001b[0m\u001b[1;33m(\u001b[0m\u001b[0mroi_data\u001b[0m\u001b[1;33m,\u001b[0m \u001b[0mself\u001b[0m\u001b[1;33m.\u001b[0m\u001b[0mneighbors_key\u001b[0m\u001b[1;33m)\u001b[0m\u001b[1;33m\u001b[0m\u001b[1;33m\u001b[0m\u001b[0m\n\u001b[0m\u001b[0;32m     38\u001b[0m             \u001b[0mlabels\u001b[0m \u001b[1;33m=\u001b[0m \u001b[0mroi_data\u001b[0m\u001b[1;33m[\u001b[0m\u001b[0mself\u001b[0m\u001b[1;33m.\u001b[0m\u001b[0mcell_id_key\u001b[0m\u001b[1;33m]\u001b[0m\u001b[1;33m\u001b[0m\u001b[1;33m\u001b[0m\u001b[0m\n\u001b[0;32m     39\u001b[0m             results = autocorr(\n",
      "\u001b[1;32mc:\\users\\milk\\projects\\spatialtis\\spatialtis\\utils\\io.py\u001b[0m in \u001b[0;36mread_neighbors\u001b[1;34m(data, neighbors_key)\u001b[0m\n\u001b[0;32m    183\u001b[0m \u001b[1;32mdef\u001b[0m \u001b[0mread_neighbors\u001b[0m\u001b[1;33m(\u001b[0m\u001b[0mdata\u001b[0m\u001b[1;33m:\u001b[0m \u001b[0mpd\u001b[0m\u001b[1;33m.\u001b[0m\u001b[0mDataFrame\u001b[0m\u001b[1;33m,\u001b[0m \u001b[0mneighbors_key\u001b[0m\u001b[1;33m:\u001b[0m \u001b[0mstr\u001b[0m\u001b[1;33m)\u001b[0m \u001b[1;33m->\u001b[0m \u001b[0mList\u001b[0m\u001b[1;33m[\u001b[0m\u001b[0mList\u001b[0m\u001b[1;33m[\u001b[0m\u001b[0mint\u001b[0m\u001b[1;33m]\u001b[0m\u001b[1;33m]\u001b[0m\u001b[1;33m:\u001b[0m\u001b[1;33m\u001b[0m\u001b[1;33m\u001b[0m\u001b[0m\n\u001b[0;32m    184\u001b[0m     \u001b[1;32mif\u001b[0m \u001b[0mneighbors_key\u001b[0m \u001b[1;32mnot\u001b[0m \u001b[1;32min\u001b[0m \u001b[0mdata\u001b[0m\u001b[1;33m.\u001b[0m\u001b[0mcolumns\u001b[0m\u001b[1;33m:\u001b[0m\u001b[1;33m\u001b[0m\u001b[1;33m\u001b[0m\u001b[0m\n\u001b[1;32m--> 185\u001b[1;33m         \u001b[1;32mraise\u001b[0m \u001b[0mNeighborsNotFoundError\u001b[0m\u001b[1;33m(\u001b[0m\u001b[1;34m\"Please run spatialtis.find_neighbors before proceed\"\u001b[0m\u001b[1;33m)\u001b[0m\u001b[1;33m\u001b[0m\u001b[1;33m\u001b[0m\u001b[0m\n\u001b[0m\u001b[0;32m    186\u001b[0m     \u001b[1;32mreturn\u001b[0m \u001b[1;33m[\u001b[0m\u001b[0mliteral_eval\u001b[0m\u001b[1;33m(\u001b[0m\u001b[0mn\u001b[0m\u001b[1;33m)\u001b[0m \u001b[1;32mfor\u001b[0m \u001b[0mn\u001b[0m \u001b[1;32min\u001b[0m \u001b[0mdata\u001b[0m\u001b[1;33m[\u001b[0m\u001b[0mneighbors_key\u001b[0m\u001b[1;33m]\u001b[0m\u001b[1;33m]\u001b[0m\u001b[1;33m\u001b[0m\u001b[1;33m\u001b[0m\u001b[0m\n\u001b[0;32m    187\u001b[0m \u001b[1;33m\u001b[0m\u001b[0m\n",
      "\u001b[1;31mNeighborsNotFoundError\u001b[0m: Please run spatialtis.find_neighbors before proceed"
     ]
    }
   ],
   "source": [
    "st.spatial_autocorr(data)"
   ]
  },
  {
   "cell_type": "code",
   "execution_count": null,
   "id": "3ccbfc1e-68e4-48b5-b6b3-2144684f6420",
   "metadata": {},
   "outputs": [],
   "source": []
  }
 ],
 "metadata": {
  "kernelspec": {
   "display_name": "Python 3 (ipykernel)",
   "language": "python",
   "name": "python3"
  },
  "language_info": {
   "codemirror_mode": {
    "name": "ipython",
    "version": 3
   },
   "file_extension": ".py",
   "mimetype": "text/x-python",
   "name": "python",
   "nbconvert_exporter": "python",
   "pygments_lexer": "ipython3",
   "version": "3.9.0"
  }
 },
 "nbformat": 4,
 "nbformat_minor": 5
}
