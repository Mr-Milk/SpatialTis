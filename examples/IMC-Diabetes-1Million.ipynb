{
 "cells": [
  {
   "cell_type": "markdown",
   "id": "5bebcd31-bccd-4790-ab80-109e0a71405a",
   "metadata": {},
   "source": [
    "# 1.8 Million cells\n",
    "\n",
    "This example shows the speed of SpatialTis when perform analysis on large-scale dataset."
   ]
  },
  {
   "cell_type": "code",
   "execution_count": 1,
   "id": "62c72107-24a1-46cc-b566-99b0f9221259",
   "metadata": {},
   "outputs": [],
   "source": [
    "%config InlineBackend.figure_format='retina'\n",
    "import anndata as ad\n",
    "import spatialtis as st\n",
    "import spatialtis.plotting as sp\n",
    "from spatialtis import Config"
   ]
  },
  {
   "cell_type": "code",
   "execution_count": 2,
   "id": "fcc44627-6a04-4ea2-88ee-1e2838c2a615",
   "metadata": {},
   "outputs": [
    {
     "name": "stderr",
     "output_type": "stream",
     "text": [
      "C:\\Users\\Milk\\anaconda3\\envs\\spatialtis\\lib\\site-packages\\anndata\\_core\\anndata.py:120: ImplicitModificationWarning: Transforming to str index.\n",
      "  warnings.warn(\"Transforming to str index.\", ImplicitModificationWarning)\n"
     ]
    },
    {
     "data": {
      "text/html": [
       "<div>\n",
       "<style scoped>\n",
       "    .dataframe tbody tr th:only-of-type {\n",
       "        vertical-align: middle;\n",
       "    }\n",
       "\n",
       "    .dataframe tbody tr th {\n",
       "        vertical-align: top;\n",
       "    }\n",
       "\n",
       "    .dataframe thead th {\n",
       "        text-align: right;\n",
       "    }\n",
       "</style>\n",
       "<table border=\"1\" class=\"dataframe\">\n",
       "  <thead>\n",
       "    <tr style=\"text-align: right;\">\n",
       "      <th></th>\n",
       "      <th>area</th>\n",
       "      <th>eccentricity</th>\n",
       "      <th>islet_id</th>\n",
       "      <th>centroid</th>\n",
       "      <th>image</th>\n",
       "      <th>case</th>\n",
       "      <th>slide</th>\n",
       "      <th>part</th>\n",
       "      <th>group</th>\n",
       "      <th>stage</th>\n",
       "      <th>cell_cat</th>\n",
       "      <th>cell_type</th>\n",
       "      <th>n_genes</th>\n",
       "      <th>neighbors_ix</th>\n",
       "      <th>cell_neighbors</th>\n",
       "      <th>cell_neighbors_count</th>\n",
       "    </tr>\n",
       "  </thead>\n",
       "  <tbody>\n",
       "    <tr>\n",
       "      <th>0</th>\n",
       "      <td>12</td>\n",
       "      <td>0.837664</td>\n",
       "      <td>0</td>\n",
       "      <td>(52.5, 0.6666666666666666)</td>\n",
       "      <td>A01</td>\n",
       "      <td>6362</td>\n",
       "      <td>A</td>\n",
       "      <td>Tail</td>\n",
       "      <td>1</td>\n",
       "      <td>Onset</td>\n",
       "      <td>exocrine</td>\n",
       "      <td>acinar</td>\n",
       "      <td>30</td>\n",
       "      <td>0</td>\n",
       "      <td>[0, 71, 50]</td>\n",
       "      <td>3</td>\n",
       "    </tr>\n",
       "    <tr>\n",
       "      <th>1</th>\n",
       "      <td>19</td>\n",
       "      <td>0.902864</td>\n",
       "      <td>0</td>\n",
       "      <td>(128.0, 0.894736842105263)</td>\n",
       "      <td>A01</td>\n",
       "      <td>6362</td>\n",
       "      <td>A</td>\n",
       "      <td>Tail</td>\n",
       "      <td>1</td>\n",
       "      <td>Onset</td>\n",
       "      <td>exocrine</td>\n",
       "      <td>acinar</td>\n",
       "      <td>36</td>\n",
       "      <td>1</td>\n",
       "      <td>[87, 2, 1, 58]</td>\n",
       "      <td>4</td>\n",
       "    </tr>\n",
       "    <tr>\n",
       "      <th>2</th>\n",
       "      <td>7</td>\n",
       "      <td>0.882300</td>\n",
       "      <td>0</td>\n",
       "      <td>(135.28571428571428, 0.42857142857142855)</td>\n",
       "      <td>A01</td>\n",
       "      <td>6362</td>\n",
       "      <td>A</td>\n",
       "      <td>Tail</td>\n",
       "      <td>1</td>\n",
       "      <td>Onset</td>\n",
       "      <td>exocrine</td>\n",
       "      <td>acinar</td>\n",
       "      <td>30</td>\n",
       "      <td>2</td>\n",
       "      <td>[44, 87, 2, 1]</td>\n",
       "      <td>4</td>\n",
       "    </tr>\n",
       "    <tr>\n",
       "      <th>3</th>\n",
       "      <td>19</td>\n",
       "      <td>0.784367</td>\n",
       "      <td>0</td>\n",
       "      <td>(449.5263157894737, 1.1578947368421053)</td>\n",
       "      <td>A01</td>\n",
       "      <td>6362</td>\n",
       "      <td>A</td>\n",
       "      <td>Tail</td>\n",
       "      <td>1</td>\n",
       "      <td>Onset</td>\n",
       "      <td>exocrine</td>\n",
       "      <td>acinar</td>\n",
       "      <td>33</td>\n",
       "      <td>3</td>\n",
       "      <td>[64, 3, 4]</td>\n",
       "      <td>3</td>\n",
       "    </tr>\n",
       "    <tr>\n",
       "      <th>4</th>\n",
       "      <td>30</td>\n",
       "      <td>0.930895</td>\n",
       "      <td>0</td>\n",
       "      <td>(458.3666666666666, 1.1)</td>\n",
       "      <td>A01</td>\n",
       "      <td>6362</td>\n",
       "      <td>A</td>\n",
       "      <td>Tail</td>\n",
       "      <td>1</td>\n",
       "      <td>Onset</td>\n",
       "      <td>exocrine</td>\n",
       "      <td>acinar</td>\n",
       "      <td>38</td>\n",
       "      <td>4</td>\n",
       "      <td>[64, 3, 4, 55]</td>\n",
       "      <td>4</td>\n",
       "    </tr>\n",
       "  </tbody>\n",
       "</table>\n",
       "</div>"
      ],
      "text/plain": [
       "   area  eccentricity  islet_id                                   centroid  \\\n",
       "0    12      0.837664         0                 (52.5, 0.6666666666666666)   \n",
       "1    19      0.902864         0                 (128.0, 0.894736842105263)   \n",
       "2     7      0.882300         0  (135.28571428571428, 0.42857142857142855)   \n",
       "3    19      0.784367         0    (449.5263157894737, 1.1578947368421053)   \n",
       "4    30      0.930895         0                   (458.3666666666666, 1.1)   \n",
       "\n",
       "  image  case slide  part  group  stage  cell_cat cell_type  n_genes  \\\n",
       "0   A01  6362     A  Tail      1  Onset  exocrine    acinar       30   \n",
       "1   A01  6362     A  Tail      1  Onset  exocrine    acinar       36   \n",
       "2   A01  6362     A  Tail      1  Onset  exocrine    acinar       30   \n",
       "3   A01  6362     A  Tail      1  Onset  exocrine    acinar       33   \n",
       "4   A01  6362     A  Tail      1  Onset  exocrine    acinar       38   \n",
       "\n",
       "   neighbors_ix  cell_neighbors  cell_neighbors_count  \n",
       "0             0     [0, 71, 50]                     3  \n",
       "1             1  [87, 2, 1, 58]                     4  \n",
       "2             2  [44, 87, 2, 1]                     4  \n",
       "3             3      [64, 3, 4]                     3  \n",
       "4             4  [64, 3, 4, 55]                     4  "
      ]
     },
     "execution_count": 2,
     "metadata": {},
     "output_type": "execute_result"
    }
   ],
   "source": [
    "data = ad.read_h5ad(\"../data/IMC-diabetes.h5ad\")\n",
    "data.obs.head(5)"
   ]
  },
  {
   "cell_type": "code",
   "execution_count": 9,
   "id": "dd452eb4-605f-4622-8d71-c886a9e9f5af",
   "metadata": {},
   "outputs": [
    {
     "data": {
      "text/plain": [
       "AnnData object with n_obs × n_vars = 1776974 × 38\n",
       "    obs: 'area', 'eccentricity', 'islet_id', 'centroid', 'image', 'case', 'slide', 'part', 'group', 'stage', 'cell_cat', 'cell_type', 'n_genes', 'neighbors_ix', 'cell_neighbors', 'cell_neighbors_count', 'cell_id'\n",
       "    var: 'markers', 'n_cells', 'highly_variable', 'means', 'dispersions', 'dispersions_norm'\n",
       "    uns: 'cell_components', 'cell_density', 'co_expression', 'hvg', 'neighborhood_analysis', 'shannon_entropy', 'spatial_entropy', 'sscmap_computed', 'cell_interaction'"
      ]
     },
     "execution_count": 9,
     "metadata": {},
     "output_type": "execute_result"
    }
   ],
   "source": [
    "data"
   ]
  },
  {
   "cell_type": "code",
   "execution_count": 3,
   "id": "1fa91d53-27db-4917-a0e9-1ffe19c4a1d5",
   "metadata": {},
   "outputs": [],
   "source": [
    "st.transform_points(data, 'centroid')"
   ]
  },
  {
   "cell_type": "code",
   "execution_count": 4,
   "id": "6d584497-fe5e-40cb-9592-dd535e6eaa6b",
   "metadata": {},
   "outputs": [],
   "source": [
    "Config.exp_obs = ['stage', 'part', 'case', 'image']\n",
    "Config.cell_type_key = 'cell_type'\n",
    "Config.marker_key = 'markers'"
   ]
  },
  {
   "cell_type": "code",
   "execution_count": 5,
   "id": "59eceea1-b6bf-4338-b0e8-53d737ad4ae0",
   "metadata": {},
   "outputs": [],
   "source": [
    "Config.progress_bar = True"
   ]
  },
  {
   "cell_type": "code",
   "execution_count": 6,
   "id": "17bdfc33-7f87-45a8-a3dc-8e7d4510e291",
   "metadata": {},
   "outputs": [
    {
     "data": {
      "text/html": [
       "<pre style=\"white-space:pre;overflow-x:auto;line-height:normal;font-family:Menlo,'DejaVu Sans Mono',consolas,'Courier New',monospace\">⏳ <span style=\"color: #008000; text-decoration-color: #008000\">Cell components</span>\n",
       "</pre>\n"
      ],
      "text/plain": [
       "⏳ \u001b[32mCell components\u001b[0m\n"
      ]
     },
     "metadata": {},
     "output_type": "display_data"
    },
    {
     "data": {
      "text/html": [
       "<pre style=\"white-space:pre;overflow-x:auto;line-height:normal;font-family:Menlo,'DejaVu Sans Mono',consolas,'Courier New',monospace\">📦 <span style=\"color: #008000; text-decoration-color: #008000\">Added to AnnData, uns: </span><span style=\"color: #008080; text-decoration-color: #008080; font-weight: bold\">'cell_components'</span>\n",
       "</pre>\n"
      ],
      "text/plain": [
       "📦 \u001b[32mAdded to AnnData, uns: \u001b[0m\u001b[1;36m'cell_components'\u001b[0m\n"
      ]
     },
     "metadata": {},
     "output_type": "display_data"
    },
    {
     "data": {
      "text/html": [
       "<pre style=\"white-space:pre;overflow-x:auto;line-height:normal;font-family:Menlo,'DejaVu Sans Mono',consolas,'Courier New',monospace\">⏱ <span style=\"color: #008080; text-decoration-color: #008080; font-weight: bold\">3s566ms</span>\n",
       "</pre>\n"
      ],
      "text/plain": [
       "⏱ \u001b[1;36m3s566ms\u001b[0m\n"
      ]
     },
     "metadata": {},
     "output_type": "display_data"
    },
    {
     "data": {
      "text/plain": [
       "<AxesSubplot:xlabel='stage', ylabel='count'>"
      ]
     },
     "execution_count": 6,
     "metadata": {},
     "output_type": "execute_result"
    },
    {
     "data": {
      "image/png": "[encoded data removed]",
      "text/plain": [
       "<Figure size 432x288 with 1 Axes>"
      ]
     },
     "metadata": {
      "image/png": {
       "height": 261,
       "width": 587
      },
      "needs_background": "light"
     },
     "output_type": "display_data"
    }
   ],
   "source": [
    "_ = st.cell_components(data)\n",
    "sp.cell_components(data, groupby='stage')"
   ]
  },
  {
   "cell_type": "code",
   "execution_count": 7,
   "id": "dfaab49c-fad7-4cf2-a311-b25caa17df3e",
   "metadata": {},
   "outputs": [
    {
     "data": {
      "text/html": [
       "<pre style=\"white-space:pre;overflow-x:auto;line-height:normal;font-family:Menlo,'DejaVu Sans Mono',consolas,'Courier New',monospace\">⏳ <span style=\"color: #008000; text-decoration-color: #008000\">Find neighbors</span>\n",
       "</pre>\n"
      ],
      "text/plain": [
       "⏳ \u001b[32mFind neighbors\u001b[0m\n"
      ]
     },
     "metadata": {},
     "output_type": "display_data"
    },
    {
     "data": {
      "text/html": [
       "<pre style=\"white-space:pre;overflow-x:auto;line-height:normal;font-family:Menlo,'DejaVu Sans Mono',consolas,'Courier New',monospace\"><span style=\"color: #008000; text-decoration-color: #008000\">🛠 Method: kdtree</span>\n",
       "</pre>\n"
      ],
      "text/plain": [
       "\u001b[32m🛠 Method: kdtree\u001b[0m\n"
      ]
     },
     "metadata": {},
     "output_type": "display_data"
    },
    {
     "data": {
      "application/vnd.jupyter.widget-view+json": {
       "model_id": "03f4aa51b2b241569d2110753e52a8d9",
       "version_major": 2,
       "version_minor": 0
      },
      "text/plain": [
       "Output()"
      ]
     },
     "metadata": {},
     "output_type": "display_data"
    },
    {
     "data": {
      "text/html": [
       "<pre style=\"white-space:pre;overflow-x:auto;line-height:normal;font-family:Menlo,'DejaVu Sans Mono',consolas,'Courier New',monospace\">📦 <span style=\"color: #008000; text-decoration-color: #008000\">Added to AnnData, obs: </span><span style=\"color: #008080; text-decoration-color: #008080; font-weight: bold\">'cell_neighbors'</span>\n",
       "</pre>\n"
      ],
      "text/plain": [
       "📦 \u001b[32mAdded to AnnData, obs: \u001b[0m\u001b[1;36m'cell_neighbors'\u001b[0m\n"
      ]
     },
     "metadata": {},
     "output_type": "display_data"
    },
    {
     "data": {
      "text/html": [
       "<pre style=\"white-space:pre;overflow-x:auto;line-height:normal;font-family:Menlo,'DejaVu Sans Mono',consolas,'Courier New',monospace\">📦 <span style=\"color: #008000; text-decoration-color: #008000\">Added to AnnData, obs: </span><span style=\"color: #008080; text-decoration-color: #008080; font-weight: bold\">'cell_neighbors_count'</span>\n",
       "</pre>\n"
      ],
      "text/plain": [
       "📦 \u001b[32mAdded to AnnData, obs: \u001b[0m\u001b[1;36m'cell_neighbors_count'\u001b[0m\n"
      ]
     },
     "metadata": {},
     "output_type": "display_data"
    },
    {
     "data": {
      "text/html": [
       "<pre style=\"white-space:pre;overflow-x:auto;line-height:normal;font-family:Menlo,'DejaVu Sans Mono',consolas,'Courier New',monospace\">⏱ <span style=\"color: #008080; text-decoration-color: #008080; font-weight: bold\">17s260ms</span>\n",
       "</pre>\n"
      ],
      "text/plain": [
       "⏱ \u001b[1;36m17s260ms\u001b[0m\n"
      ]
     },
     "metadata": {},
     "output_type": "display_data"
    }
   ],
   "source": [
    "_ = st.find_neighbors(data, r=25)"
   ]
  },
  {
   "cell_type": "code",
   "execution_count": 8,
   "id": "bf0809cb-e90e-45b4-9994-4b769de4e941",
   "metadata": {},
   "outputs": [
    {
     "data": {
      "text/html": [
       "<pre style=\"white-space:pre;overflow-x:auto;line-height:normal;font-family:Menlo,'DejaVu Sans Mono',consolas,'Courier New',monospace\">⏳ <span style=\"color: #008000; text-decoration-color: #008000\">Cell interaction</span>\n",
       "</pre>\n"
      ],
      "text/plain": [
       "⏳ \u001b[32mCell interaction\u001b[0m\n"
      ]
     },
     "metadata": {},
     "output_type": "display_data"
    },
    {
     "data": {
      "application/vnd.jupyter.widget-view+json": {
       "model_id": "e4fc914ab14443bdae0fad64c3447310",
       "version_major": 2,
       "version_minor": 0
      },
      "text/plain": [
       "Output()"
      ]
     },
     "metadata": {},
     "output_type": "display_data"
    },
    {
     "data": {
      "text/html": [
       "<pre style=\"white-space:pre;overflow-x:auto;line-height:normal;font-family:Menlo,'DejaVu Sans Mono',consolas,'Courier New',monospace\">📦 <span style=\"color: #008000; text-decoration-color: #008000\">Added to AnnData, uns: </span><span style=\"color: #008080; text-decoration-color: #008080; font-weight: bold\">'cell_interaction'</span>\n",
       "</pre>\n"
      ],
      "text/plain": [
       "📦 \u001b[32mAdded to AnnData, uns: \u001b[0m\u001b[1;36m'cell_interaction'\u001b[0m\n"
      ]
     },
     "metadata": {},
     "output_type": "display_data"
    },
    {
     "data": {
      "text/html": [
       "<pre style=\"white-space:pre;overflow-x:auto;line-height:normal;font-family:Menlo,'DejaVu Sans Mono',consolas,'Courier New',monospace\">⏱ <span style=\"color: #008080; text-decoration-color: #008080; font-weight: bold\">3m1s</span>\n",
       "</pre>\n"
      ],
      "text/plain": [
       "⏱ \u001b[1;36m3m1s\u001b[0m\n"
      ]
     },
     "metadata": {},
     "output_type": "display_data"
    }
   ],
   "source": [
    "_ = st.cell_interaction(data)"
   ]
  },
  {
   "cell_type": "code",
   "execution_count": null,
   "id": "a828d8a5-c38f-4d13-8b47-e41b01fb1e02",
   "metadata": {},
   "outputs": [],
   "source": []
  }
 ],
 "metadata": {
  "kernelspec": {
   "display_name": "Python 3 (ipykernel)",
   "language": "python",
   "name": "python3"
  },
  "language_info": {
   "codemirror_mode": {
    "name": "ipython",
    "version": 3
   },
   "file_extension": ".py",
   "mimetype": "text/x-python",
   "name": "python",
   "nbconvert_exporter": "python",
   "pygments_lexer": "ipython3",
   "version": "3.9.0"
  }
 },
 "nbformat": 4,
 "nbformat_minor": 5
}
