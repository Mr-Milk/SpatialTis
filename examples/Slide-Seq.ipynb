{
 "cells": [
  {
   "cell_type": "code",
   "execution_count": 1,
   "id": "06fe6639-5533-42af-9003-f55284580e4e",
   "metadata": {},
   "outputs": [],
   "source": [
    "import anndata as ad\n",
    "import spatialtis as st\n",
    "import spatialtis.plotting as sp"
   ]
  },
  {
   "cell_type": "code",
   "execution_count": 8,
   "id": "4a22d252-141d-4450-a451-ddd5fb7f7c3f",
   "metadata": {},
   "outputs": [
    {
     "data": {
      "text/plain": [
       "AnnData object with n_obs × n_vars = 23006 × 4650\n",
       "    obs: 'cellid', 'x', 'y', 'centroid', 'roi'"
      ]
     },
     "execution_count": 8,
     "metadata": {},
     "output_type": "execute_result"
    }
   ],
   "source": [
    "data = ad.read_h5ad('../data/slide-seq.h5ad')\n",
    "data"
   ]
  },
  {
   "cell_type": "code",
   "execution_count": 10,
   "id": "bbc7c358-161c-473d-88fb-8e9ad6fd6c7d",
   "metadata": {},
   "outputs": [
    {
     "data": {
      "text/html": [
       "<pre style=\"white-space:pre;overflow-x:auto;line-height:normal;font-family:Menlo,'DejaVu Sans Mono',consolas,'Courier New',monospace\"><span style=\"font-style: italic\">         Current configurations of SpatialTis         </span>\n",
       "┏━━━━━━━━━━━━━━━━━━━━━━━━━┳━━━━━━━━━━━━━━━┳━━━━━━━━━━┓\n",
       "┃<span style=\"font-weight: bold\"> Options                 </span>┃<span style=\"font-weight: bold\"> Attributes    </span>┃<span style=\"font-weight: bold\"> Value    </span>┃\n",
       "┡━━━━━━━━━━━━━━━━━━━━━━━━━╇━━━━━━━━━━━━━━━╇━━━━━━━━━━┩\n",
       "│<span style=\"color: #808080; text-decoration-color: #808080\"> Multiprocessing         </span>│<span style=\"color: #008080; text-decoration-color: #008080\"> mp            </span>│<span style=\"color: #800080; text-decoration-color: #800080\"> True     </span>│\n",
       "│<span style=\"color: #808080; text-decoration-color: #808080\"> Verbose                 </span>│<span style=\"color: #008080; text-decoration-color: #008080\"> verbose       </span>│<span style=\"color: #800080; text-decoration-color: #800080\"> True     </span>│\n",
       "│<span style=\"color: #808080; text-decoration-color: #808080\"> Progress bar            </span>│<span style=\"color: #008080; text-decoration-color: #008080\"> progress_bar  </span>│<span style=\"color: #800080; text-decoration-color: #800080\"> False    </span>│\n",
       "│<span style=\"color: #808080; text-decoration-color: #808080\"> Auto save               </span>│<span style=\"color: #008080; text-decoration-color: #008080\"> auto_save     </span>│<span style=\"color: #800080; text-decoration-color: #800080\"> False    </span>│\n",
       "│<span style=\"color: #808080; text-decoration-color: #808080\"> Experiment observations </span>│<span style=\"color: #008080; text-decoration-color: #008080\"> exp_obs       </span>│<span style=\"color: #800080; text-decoration-color: #800080\"> ['roi']  </span>│\n",
       "│<span style=\"color: #808080; text-decoration-color: #808080\"> ROI key                 </span>│<span style=\"color: #008080; text-decoration-color: #008080\"> roi_key       </span>│<span style=\"color: #800080; text-decoration-color: #800080\"> roi      </span>│\n",
       "│<span style=\"color: #808080; text-decoration-color: #808080\"> Cell type key           </span>│<span style=\"color: #008080; text-decoration-color: #008080\"> cell_type_key </span>│<span style=\"color: #800080; text-decoration-color: #800080\">          </span>│\n",
       "│<span style=\"color: #808080; text-decoration-color: #808080\"> Marker key              </span>│<span style=\"color: #008080; text-decoration-color: #008080\"> marker_key    </span>│<span style=\"color: #800080; text-decoration-color: #800080\">          </span>│\n",
       "│<span style=\"color: #808080; text-decoration-color: #808080\"> Centroid key            </span>│<span style=\"color: #008080; text-decoration-color: #008080\"> centroid_key  </span>│<span style=\"color: #800080; text-decoration-color: #800080\"> centroid </span>│\n",
       "│<span style=\"color: #808080; text-decoration-color: #808080\"> Shape key               </span>│<span style=\"color: #008080; text-decoration-color: #008080\"> shape_key     </span>│<span style=\"color: #800080; text-decoration-color: #800080\">          </span>│\n",
       "└─────────────────────────┴───────────────┴──────────┘\n",
       "</pre>\n"
      ],
      "text/plain": [
       "\u001b[3m         Current configurations of SpatialTis         \u001b[0m\n",
       "┏━━━━━━━━━━━━━━━━━━━━━━━━━┳━━━━━━━━━━━━━━━┳━━━━━━━━━━┓\n",
       "┃\u001b[1m \u001b[0m\u001b[1mOptions                \u001b[0m\u001b[1m \u001b[0m┃\u001b[1m \u001b[0m\u001b[1mAttributes   \u001b[0m\u001b[1m \u001b[0m┃\u001b[1m \u001b[0m\u001b[1mValue   \u001b[0m\u001b[1m \u001b[0m┃\n",
       "┡━━━━━━━━━━━━━━━━━━━━━━━━━╇━━━━━━━━━━━━━━━╇━━━━━━━━━━┩\n",
       "│\u001b[90m \u001b[0m\u001b[90mMultiprocessing        \u001b[0m\u001b[90m \u001b[0m│\u001b[36m \u001b[0m\u001b[36mmp           \u001b[0m\u001b[36m \u001b[0m│\u001b[35m \u001b[0m\u001b[35mTrue    \u001b[0m\u001b[35m \u001b[0m│\n",
       "│\u001b[90m \u001b[0m\u001b[90mVerbose                \u001b[0m\u001b[90m \u001b[0m│\u001b[36m \u001b[0m\u001b[36mverbose      \u001b[0m\u001b[36m \u001b[0m│\u001b[35m \u001b[0m\u001b[35mTrue    \u001b[0m\u001b[35m \u001b[0m│\n",
       "│\u001b[90m \u001b[0m\u001b[90mProgress bar           \u001b[0m\u001b[90m \u001b[0m│\u001b[36m \u001b[0m\u001b[36mprogress_bar \u001b[0m\u001b[36m \u001b[0m│\u001b[35m \u001b[0m\u001b[35mFalse   \u001b[0m\u001b[35m \u001b[0m│\n",
       "│\u001b[90m \u001b[0m\u001b[90mAuto save              \u001b[0m\u001b[90m \u001b[0m│\u001b[36m \u001b[0m\u001b[36mauto_save    \u001b[0m\u001b[36m \u001b[0m│\u001b[35m \u001b[0m\u001b[35mFalse   \u001b[0m\u001b[35m \u001b[0m│\n",
       "│\u001b[90m \u001b[0m\u001b[90mExperiment observations\u001b[0m\u001b[90m \u001b[0m│\u001b[36m \u001b[0m\u001b[36mexp_obs      \u001b[0m\u001b[36m \u001b[0m│\u001b[35m \u001b[0m\u001b[35m['roi'] \u001b[0m\u001b[35m \u001b[0m│\n",
       "│\u001b[90m \u001b[0m\u001b[90mROI key                \u001b[0m\u001b[90m \u001b[0m│\u001b[36m \u001b[0m\u001b[36mroi_key      \u001b[0m\u001b[36m \u001b[0m│\u001b[35m \u001b[0m\u001b[35mroi     \u001b[0m\u001b[35m \u001b[0m│\n",
       "│\u001b[90m \u001b[0m\u001b[90mCell type key          \u001b[0m\u001b[90m \u001b[0m│\u001b[36m \u001b[0m\u001b[36mcell_type_key\u001b[0m\u001b[36m \u001b[0m│\u001b[35m \u001b[0m\u001b[35m        \u001b[0m\u001b[35m \u001b[0m│\n",
       "│\u001b[90m \u001b[0m\u001b[90mMarker key             \u001b[0m\u001b[90m \u001b[0m│\u001b[36m \u001b[0m\u001b[36mmarker_key   \u001b[0m\u001b[36m \u001b[0m│\u001b[35m \u001b[0m\u001b[35m        \u001b[0m\u001b[35m \u001b[0m│\n",
       "│\u001b[90m \u001b[0m\u001b[90mCentroid key           \u001b[0m\u001b[90m \u001b[0m│\u001b[36m \u001b[0m\u001b[36mcentroid_key \u001b[0m\u001b[36m \u001b[0m│\u001b[35m \u001b[0m\u001b[35mcentroid\u001b[0m\u001b[35m \u001b[0m│\n",
       "│\u001b[90m \u001b[0m\u001b[90mShape key              \u001b[0m\u001b[90m \u001b[0m│\u001b[36m \u001b[0m\u001b[36mshape_key    \u001b[0m\u001b[36m \u001b[0m│\u001b[35m \u001b[0m\u001b[35m        \u001b[0m\u001b[35m \u001b[0m│\n",
       "└─────────────────────────┴───────────────┴──────────┘\n"
      ]
     },
     "metadata": {},
     "output_type": "display_data"
    }
   ],
   "source": [
    "st.Config.view()"
   ]
  },
  {
   "cell_type": "code",
   "execution_count": 9,
   "id": "b857679f-40db-496f-b527-0b02c68910d0",
   "metadata": {},
   "outputs": [],
   "source": [
    "st.Config.centroid_key = 'centroid'\n",
    "st.Config.roi_key = 'roi'"
   ]
  },
  {
   "cell_type": "code",
   "execution_count": 16,
   "id": "e120b885-8354-4659-9304-3b8a133d2116",
   "metadata": {},
   "outputs": [
    {
     "data": {
      "text/html": [
       "<pre style=\"white-space:pre;overflow-x:auto;line-height:normal;font-family:Menlo,'DejaVu Sans Mono',consolas,'Courier New',monospace\">⏳ <span style=\"color: #008000; text-decoration-color: #008000\">Find neighbors</span>\n",
       "</pre>\n"
      ],
      "text/plain": [
       "⏳ \u001b[32mFind neighbors\u001b[0m\n"
      ]
     },
     "metadata": {},
     "output_type": "display_data"
    },
    {
     "data": {
      "text/html": [
       "<pre style=\"white-space:pre;overflow-x:auto;line-height:normal;font-family:Menlo,'DejaVu Sans Mono',consolas,'Courier New',monospace\"><span style=\"color: #008000; text-decoration-color: #008000\">🛠 Method: kdtree</span>\n",
       "</pre>\n"
      ],
      "text/plain": [
       "\u001b[32m🛠 Method: kdtree\u001b[0m\n"
      ]
     },
     "metadata": {},
     "output_type": "display_data"
    },
    {
     "data": {
      "text/html": [
       "<pre style=\"white-space:pre;overflow-x:auto;line-height:normal;font-family:Menlo,'DejaVu Sans Mono',consolas,'Courier New',monospace\">📦 <span style=\"color: #008000; text-decoration-color: #008000\">Added to AnnData, obs: </span><span style=\"color: #008080; text-decoration-color: #008080; font-weight: bold\">'cell_neighbors'</span>\n",
       "</pre>\n"
      ],
      "text/plain": [
       "📦 \u001b[32mAdded to AnnData, obs: \u001b[0m\u001b[1;36m'cell_neighbors'\u001b[0m\n"
      ]
     },
     "metadata": {},
     "output_type": "display_data"
    },
    {
     "data": {
      "text/html": [
       "<pre style=\"white-space:pre;overflow-x:auto;line-height:normal;font-family:Menlo,'DejaVu Sans Mono',consolas,'Courier New',monospace\">📦 <span style=\"color: #008000; text-decoration-color: #008000\">Added to AnnData, obs: </span><span style=\"color: #008080; text-decoration-color: #008080; font-weight: bold\">'cell_neighbors_count'</span>\n",
       "</pre>\n"
      ],
      "text/plain": [
       "📦 \u001b[32mAdded to AnnData, obs: \u001b[0m\u001b[1;36m'cell_neighbors_count'\u001b[0m\n"
      ]
     },
     "metadata": {},
     "output_type": "display_data"
    },
    {
     "data": {
      "text/html": [
       "<pre style=\"white-space:pre;overflow-x:auto;line-height:normal;font-family:Menlo,'DejaVu Sans Mono',consolas,'Courier New',monospace\">⏱ <span style=\"color: #008080; text-decoration-color: #008080; font-weight: bold\">115ms</span>\n",
       "</pre>\n"
      ],
      "text/plain": [
       "⏱ \u001b[1;36m115ms\u001b[0m\n"
      ]
     },
     "metadata": {},
     "output_type": "display_data"
    },
    {
     "data": {
      "text/plain": []
     },
     "execution_count": 16,
     "metadata": {},
     "output_type": "execute_result"
    }
   ],
   "source": [
    "st.find_neighbors(data, r=30)"
   ]
  },
  {
   "cell_type": "code",
   "execution_count": 17,
   "id": "76bcca4a-d004-4b0a-89af-3ddca2bcd054",
   "metadata": {},
   "outputs": [
    {
     "data": {
      "text/plain": [
       "3.828044857863166"
      ]
     },
     "execution_count": 17,
     "metadata": {},
     "output_type": "execute_result"
    }
   ],
   "source": [
    "data.obs.cell_neighbors_count.mean()"
   ]
  },
  {
   "cell_type": "code",
   "execution_count": 24,
   "id": "258836c4-e16a-4837-bc82-8f8926b2f15a",
   "metadata": {},
   "outputs": [
    {
     "data": {
      "text/html": [
       "<pre style=\"white-space:pre;overflow-x:auto;line-height:normal;font-family:Menlo,'DejaVu Sans Mono',consolas,'Courier New',monospace\">⏳ <span style=\"color: #008000; text-decoration-color: #008000\">Spatial autocorr</span>\n",
       "</pre>\n"
      ],
      "text/plain": [
       "⏳ \u001b[32mSpatial autocorr\u001b[0m\n"
      ]
     },
     "metadata": {},
     "output_type": "display_data"
    },
    {
     "data": {
      "text/html": [
       "<pre style=\"white-space:pre;overflow-x:auto;line-height:normal;font-family:Menlo,'DejaVu Sans Mono',consolas,'Courier New',monospace\">📦 <span style=\"color: #008000; text-decoration-color: #008000\">Added to AnnData, uns: </span><span style=\"color: #008080; text-decoration-color: #008080; font-weight: bold\">'spatial_autocorr'</span>\n",
       "</pre>\n"
      ],
      "text/plain": [
       "📦 \u001b[32mAdded to AnnData, uns: \u001b[0m\u001b[1;36m'spatial_autocorr'\u001b[0m\n"
      ]
     },
     "metadata": {},
     "output_type": "display_data"
    },
    {
     "data": {
      "text/html": [
       "<pre style=\"white-space:pre;overflow-x:auto;line-height:normal;font-family:Menlo,'DejaVu Sans Mono',consolas,'Courier New',monospace\">⏱ <span style=\"color: #008080; text-decoration-color: #008080; font-weight: bold\">2s970ms</span>\n",
       "</pre>\n"
      ],
      "text/plain": [
       "⏱ \u001b[1;36m2s970ms\u001b[0m\n"
      ]
     },
     "metadata": {},
     "output_type": "display_data"
    },
    {
     "data": {
      "text/plain": []
     },
     "execution_count": 24,
     "metadata": {},
     "output_type": "execute_result"
    }
   ],
   "source": [
    "st.spatial_autocorr(data, method=\"geary_c\")"
   ]
  },
  {
   "cell_type": "code",
   "execution_count": 27,
   "id": "5606cf5f-2d78-4016-aeb9-5e64629eb61a",
   "metadata": {},
   "outputs": [
    {
     "data": {
      "text/html": [
       "<pre style=\"white-space:pre;overflow-x:auto;line-height:normal;font-family:Menlo,'DejaVu Sans Mono',consolas,'Courier New',monospace\">⏳ <span style=\"color: #008000; text-decoration-color: #008000\">Somde</span>\n",
       "</pre>\n"
      ],
      "text/plain": [
       "⏳ \u001b[32mSomde\u001b[0m\n"
      ]
     },
     "metadata": {},
     "output_type": "display_data"
    },
    {
     "name": "stdout",
     "output_type": "stream",
     "text": [
      "check exp_tab before run dyn_de <class 'pandas.core.frame.DataFrame'>\n"
     ]
    },
    {
     "name": "stderr",
     "output_type": "stream",
     "text": [
      "C:\\Users\\Milk\\anaconda3\\envs\\spatialtis\\lib\\site-packages\\spatialtis_core\\external\\somde\\util.py:217: RuntimeWarning: divide by zero encountered in double_scalars\n",
      "  s2_logdelta = 1. / (derivative(LL_obj, np.log(max_delta), n=2) ** 2)\n"
     ]
    },
    {
     "data": {
      "text/html": [
       "<pre style=\"white-space:pre;overflow-x:auto;line-height:normal;font-family:Menlo,'DejaVu Sans Mono',consolas,'Courier New',monospace\">📦 <span style=\"color: #008000; text-decoration-color: #008000\">Added to AnnData, uns: </span><span style=\"color: #008080; text-decoration-color: #008080; font-weight: bold\">'somde'</span>\n",
       "</pre>\n"
      ],
      "text/plain": [
       "📦 \u001b[32mAdded to AnnData, uns: \u001b[0m\u001b[1;36m'somde'\u001b[0m\n"
      ]
     },
     "metadata": {},
     "output_type": "display_data"
    },
    {
     "data": {
      "text/html": [
       "<pre style=\"white-space:pre;overflow-x:auto;line-height:normal;font-family:Menlo,'DejaVu Sans Mono',consolas,'Courier New',monospace\">⏱ <span style=\"color: #008080; text-decoration-color: #008080; font-weight: bold\">3m35s</span>\n",
       "</pre>\n"
      ],
      "text/plain": [
       "⏱ \u001b[1;36m3m35s\u001b[0m\n"
      ]
     },
     "metadata": {},
     "output_type": "display_data"
    },
    {
     "data": {
      "text/plain": []
     },
     "execution_count": 27,
     "metadata": {},
     "output_type": "execute_result"
    }
   ],
   "source": [
    "st.somde(data)"
   ]
  },
  {
   "cell_type": "code",
   "execution_count": 28,
   "id": "c7548a94-cbac-4235-aa31-aa07777c7a8d",
   "metadata": {},
   "outputs": [
    {
     "data": {
      "text/html": [
       "<div>\n",
       "<style scoped>\n",
       "    .dataframe tbody tr th:only-of-type {\n",
       "        vertical-align: middle;\n",
       "    }\n",
       "\n",
       "    .dataframe tbody tr th {\n",
       "        vertical-align: top;\n",
       "    }\n",
       "\n",
       "    .dataframe thead th {\n",
       "        text-align: right;\n",
       "    }\n",
       "</style>\n",
       "<table border=\"1\" class=\"dataframe\">\n",
       "  <thead>\n",
       "    <tr style=\"text-align: right;\">\n",
       "      <th></th>\n",
       "      <th>0610005C13Rik</th>\n",
       "      <th>0610009B22Rik</th>\n",
       "      <th>0610030E20Rik</th>\n",
       "      <th>0610040J01Rik</th>\n",
       "      <th>1110004F10Rik</th>\n",
       "      <th>1110008P14Rik</th>\n",
       "      <th>1110032A03Rik</th>\n",
       "      <th>1110059G10Rik</th>\n",
       "      <th>1110065P20Rik</th>\n",
       "      <th>1190007I07Rik</th>\n",
       "      <th>...</th>\n",
       "      <th>mt-Rnr1</th>\n",
       "      <th>mt-Rnr2</th>\n",
       "      <th>mt-Ta</th>\n",
       "      <th>mt-Ti</th>\n",
       "      <th>mt-Tm</th>\n",
       "      <th>mt-Tp</th>\n",
       "      <th>mt-Tq</th>\n",
       "      <th>mt-Ts2</th>\n",
       "      <th>mt-Tv</th>\n",
       "      <th>n-R5-8s1</th>\n",
       "    </tr>\n",
       "    <tr>\n",
       "      <th>roi</th>\n",
       "      <th></th>\n",
       "      <th></th>\n",
       "      <th></th>\n",
       "      <th></th>\n",
       "      <th></th>\n",
       "      <th></th>\n",
       "      <th></th>\n",
       "      <th></th>\n",
       "      <th></th>\n",
       "      <th></th>\n",
       "      <th></th>\n",
       "      <th></th>\n",
       "      <th></th>\n",
       "      <th></th>\n",
       "      <th></th>\n",
       "      <th></th>\n",
       "      <th></th>\n",
       "      <th></th>\n",
       "      <th></th>\n",
       "      <th></th>\n",
       "      <th></th>\n",
       "    </tr>\n",
       "  </thead>\n",
       "  <tbody>\n",
       "    <tr>\n",
       "      <th>1</th>\n",
       "      <td>0</td>\n",
       "      <td>0</td>\n",
       "      <td>0</td>\n",
       "      <td>0</td>\n",
       "      <td>0</td>\n",
       "      <td>0</td>\n",
       "      <td>0</td>\n",
       "      <td>0</td>\n",
       "      <td>0</td>\n",
       "      <td>0</td>\n",
       "      <td>...</td>\n",
       "      <td>1</td>\n",
       "      <td>1</td>\n",
       "      <td>0</td>\n",
       "      <td>0</td>\n",
       "      <td>0</td>\n",
       "      <td>0</td>\n",
       "      <td>0</td>\n",
       "      <td>1</td>\n",
       "      <td>0</td>\n",
       "      <td>0</td>\n",
       "    </tr>\n",
       "  </tbody>\n",
       "</table>\n",
       "<p>1 rows × 4650 columns</p>\n",
       "</div>"
      ],
      "text/plain": [
       "     0610005C13Rik  0610009B22Rik  0610030E20Rik  0610040J01Rik  \\\n",
       "roi                                                               \n",
       "1                0              0              0              0   \n",
       "\n",
       "     1110004F10Rik  1110008P14Rik  1110032A03Rik  1110059G10Rik  \\\n",
       "roi                                                               \n",
       "1                0              0              0              0   \n",
       "\n",
       "     1110065P20Rik  1190007I07Rik  ...  mt-Rnr1  mt-Rnr2  mt-Ta  mt-Ti  mt-Tm  \\\n",
       "roi                                ...                                          \n",
       "1                0              0  ...        1        1      0      0      0   \n",
       "\n",
       "     mt-Tp  mt-Tq  mt-Ts2  mt-Tv  n-R5-8s1  \n",
       "roi                                         \n",
       "1        0      0       1      0         0  \n",
       "\n",
       "[1 rows x 4650 columns]"
      ]
     },
     "execution_count": 28,
     "metadata": {},
     "output_type": "execute_result"
    }
   ],
   "source": [
    "st.get_result(data, 'somde')"
   ]
  },
  {
   "cell_type": "code",
   "execution_count": null,
   "id": "84c008c1-bc34-4121-b80f-81a5b5f2e359",
   "metadata": {},
   "outputs": [],
   "source": []
  },
  {
   "cell_type": "code",
   "execution_count": 29,
   "id": "5738ede2-82f7-40f9-be40-f18abd413ee0",
   "metadata": {},
   "outputs": [
    {
     "data": {
      "text/html": [
       "<pre style=\"white-space:pre;overflow-x:auto;line-height:normal;font-family:Menlo,'DejaVu Sans Mono',consolas,'Courier New',monospace\">⏳ <span style=\"color: #008000; text-decoration-color: #008000\">Spatial coexp</span>\n",
       "</pre>\n"
      ],
      "text/plain": [
       "⏳ \u001b[32mSpatial coexp\u001b[0m\n"
      ]
     },
     "metadata": {},
     "output_type": "display_data"
    },
    {
     "data": {
      "text/html": [
       "<pre style=\"white-space:pre;overflow-x:auto;line-height:normal;font-family:Menlo,'DejaVu Sans Mono',consolas,'Courier New',monospace\">📦 <span style=\"color: #008000; text-decoration-color: #008000\">Added to AnnData, uns: </span><span style=\"color: #008080; text-decoration-color: #008080; font-weight: bold\">'spatial_coexp'</span>\n",
       "</pre>\n"
      ],
      "text/plain": [
       "📦 \u001b[32mAdded to AnnData, uns: \u001b[0m\u001b[1;36m'spatial_coexp'\u001b[0m\n"
      ]
     },
     "metadata": {},
     "output_type": "display_data"
    },
    {
     "data": {
      "text/html": [
       "<pre style=\"white-space:pre;overflow-x:auto;line-height:normal;font-family:Menlo,'DejaVu Sans Mono',consolas,'Courier New',monospace\">⏱ <span style=\"color: #008080; text-decoration-color: #008080; font-weight: bold\">2m31s</span>\n",
       "</pre>\n"
      ],
      "text/plain": [
       "⏱ \u001b[1;36m2m31s\u001b[0m\n"
      ]
     },
     "metadata": {},
     "output_type": "display_data"
    },
    {
     "data": {
      "text/plain": []
     },
     "execution_count": 29,
     "metadata": {},
     "output_type": "execute_result"
    }
   ],
   "source": [
    "st.spatial_coexp(data)"
   ]
  },
  {
   "cell_type": "code",
   "execution_count": 30,
   "id": "c5e52a05-b93a-45a8-aeae-d0960f14feaa",
   "metadata": {},
   "outputs": [
    {
     "data": {
      "text/html": [
       "<div>\n",
       "<style scoped>\n",
       "    .dataframe tbody tr th:only-of-type {\n",
       "        vertical-align: middle;\n",
       "    }\n",
       "\n",
       "    .dataframe tbody tr th {\n",
       "        vertical-align: top;\n",
       "    }\n",
       "\n",
       "    .dataframe thead th {\n",
       "        text-align: right;\n",
       "    }\n",
       "</style>\n",
       "<table border=\"1\" class=\"dataframe\">\n",
       "  <thead>\n",
       "    <tr style=\"text-align: right;\">\n",
       "      <th></th>\n",
       "      <th>marker1</th>\n",
       "      <th>marker2</th>\n",
       "      <th>corr</th>\n",
       "    </tr>\n",
       "  </thead>\n",
       "  <tbody>\n",
       "    <tr>\n",
       "      <th>0</th>\n",
       "      <td>Kap</td>\n",
       "      <td>Kap</td>\n",
       "      <td>0.651142</td>\n",
       "    </tr>\n",
       "    <tr>\n",
       "      <th>1</th>\n",
       "      <td>Kap</td>\n",
       "      <td>Napsa</td>\n",
       "      <td>0.614994</td>\n",
       "    </tr>\n",
       "    <tr>\n",
       "      <th>2</th>\n",
       "      <td>Napsa</td>\n",
       "      <td>Napsa</td>\n",
       "      <td>0.596753</td>\n",
       "    </tr>\n",
       "  </tbody>\n",
       "</table>\n",
       "</div>"
      ],
      "text/plain": [
       "  marker1 marker2      corr\n",
       "0     Kap     Kap  0.651142\n",
       "1     Kap   Napsa  0.614994\n",
       "2   Napsa   Napsa  0.596753"
      ]
     },
     "execution_count": 30,
     "metadata": {},
     "output_type": "execute_result"
    }
   ],
   "source": [
    "st.get_result(data, 'spatial_coexp')"
   ]
  },
  {
   "cell_type": "code",
   "execution_count": null,
   "id": "d316ebe3-8b71-4aa7-9e00-499d52ddf93a",
   "metadata": {},
   "outputs": [],
   "source": []
  }
 ],
 "metadata": {
  "kernelspec": {
   "display_name": "Python 3 (ipykernel)",
   "language": "python",
   "name": "python3"
  },
  "language_info": {
   "codemirror_mode": {
    "name": "ipython",
    "version": 3
   },
   "file_extension": ".py",
   "mimetype": "text/x-python",
   "name": "python",
   "nbconvert_exporter": "python",
   "pygments_lexer": "ipython3",
   "version": "3.9.0"
  }
 },
 "nbformat": 4,
 "nbformat_minor": 5
}
